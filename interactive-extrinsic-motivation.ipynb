{
 "cells": [
  {
   "cell_type": "markdown",
   "metadata": {},
   "source": [
    "# An Introductory Simulation illustrating Extrinsic Motivation\n",
    "\n",
    "![](http://)To see the simulations in this notebook, click 'Copy and Edit'. Then, hit 'Run All' near the top. Scroll down to view the notebook. "
   ]
  },
  {
   "cell_type": "code",
   "execution_count": 1,
   "metadata": {
    "execution": {
     "iopub.execute_input": "2022-01-25T18:40:01.179925Z",
     "iopub.status.busy": "2022-01-25T18:40:01.179351Z",
     "iopub.status.idle": "2022-01-25T18:40:03.373729Z",
     "shell.execute_reply": "2022-01-25T18:40:03.372888Z",
     "shell.execute_reply.started": "2022-01-25T18:40:01.179837Z"
    }
   },
   "outputs": [
    {
     "ename": "ModuleNotFoundError",
     "evalue": "No module named 'holoviews'",
     "output_type": "error",
     "traceback": [
      "\u001b[0;31m---------------------------------------------------------------------------\u001b[0m",
      "\u001b[0;31mModuleNotFoundError\u001b[0m                       Traceback (most recent call last)",
      "\u001b[0;32m<ipython-input-1-b98e38cd865c>\u001b[0m in \u001b[0;36m<module>\u001b[0;34m\u001b[0m\n\u001b[0;32m----> 1\u001b[0;31m \u001b[0;32mimport\u001b[0m \u001b[0mholoviews\u001b[0m \u001b[0;32mas\u001b[0m \u001b[0mhv\u001b[0m\u001b[0;34m\u001b[0m\u001b[0;34m\u001b[0m\u001b[0m\n\u001b[0m\u001b[1;32m      2\u001b[0m \u001b[0;32mfrom\u001b[0m \u001b[0mholoviews\u001b[0m \u001b[0;32mimport\u001b[0m \u001b[0mopts\u001b[0m\u001b[0;34m\u001b[0m\u001b[0;34m\u001b[0m\u001b[0m\n\u001b[1;32m      3\u001b[0m \u001b[0;32mimport\u001b[0m \u001b[0mnumpy\u001b[0m \u001b[0;32mas\u001b[0m \u001b[0mnp\u001b[0m\u001b[0;34m\u001b[0m\u001b[0;34m\u001b[0m\u001b[0m\n\u001b[1;32m      4\u001b[0m \u001b[0mhv\u001b[0m\u001b[0;34m.\u001b[0m\u001b[0mextension\u001b[0m\u001b[0;34m(\u001b[0m\u001b[0;34m'bokeh'\u001b[0m\u001b[0;34m)\u001b[0m\u001b[0;34m\u001b[0m\u001b[0;34m\u001b[0m\u001b[0m\n",
      "\u001b[0;31mModuleNotFoundError\u001b[0m: No module named 'holoviews'"
     ]
    }
   ],
   "source": [
    "import holoviews as hv\n",
    "from holoviews import opts\n",
    "import numpy as np\n",
    "hv.extension('bokeh')"
   ]
  },
  {
   "cell_type": "code",
   "execution_count": 5,
   "metadata": {},
   "outputs": [
    {
     "ename": "ModuleNotFoundError",
     "evalue": "No module named 'holoviews'",
     "output_type": "error",
     "traceback": [
      "\u001b[0;31m---------------------------------------------------------------------------\u001b[0m",
      "\u001b[0;31mModuleNotFoundError\u001b[0m                       Traceback (most recent call last)",
      "\u001b[0;32m<ipython-input-5-ce8e8636de14>\u001b[0m in \u001b[0;36m<module>\u001b[0;34m\u001b[0m\n\u001b[0;32m----> 1\u001b[0;31m \u001b[0;32mimport\u001b[0m \u001b[0mholoviews\u001b[0m \u001b[0;32mas\u001b[0m \u001b[0mhv\u001b[0m\u001b[0;34m\u001b[0m\u001b[0;34m\u001b[0m\u001b[0m\n\u001b[0m",
      "\u001b[0;31mModuleNotFoundError\u001b[0m: No module named 'holoviews'"
     ]
    }
   ],
   "source": [
    "import holoviews as hv"
   ]
  },
  {
   "cell_type": "code",
   "execution_count": 2,
   "metadata": {
    "execution": {
     "iopub.execute_input": "2022-01-25T18:40:03.375837Z",
     "iopub.status.busy": "2022-01-25T18:40:03.375365Z",
     "iopub.status.idle": "2022-01-25T18:40:03.379674Z",
     "shell.execute_reply": "2022-01-25T18:40:03.378797Z",
     "shell.execute_reply.started": "2022-01-25T18:40:03.375804Z"
    }
   },
   "outputs": [],
   "source": [
    "import math"
   ]
  },
  {
   "cell_type": "code",
   "execution_count": 3,
   "metadata": {
    "execution": {
     "iopub.execute_input": "2022-01-25T18:40:03.381302Z",
     "iopub.status.busy": "2022-01-25T18:40:03.380835Z",
     "iopub.status.idle": "2022-01-25T18:40:03.878796Z",
     "shell.execute_reply": "2022-01-25T18:40:03.877544Z",
     "shell.execute_reply.started": "2022-01-25T18:40:03.381246Z"
    }
   },
   "outputs": [],
   "source": [
    "import math\n",
    "import numpy as np\n",
    "from scipy import optimize\n",
    "\n",
    "class individual:\n",
    "    def __init__(self, initial_capital):\n",
    "        self.initial_capital = initial_capital\n",
    "        self.motivation = 0\n",
    "        \n",
    "    def gaussian(self,x,sigma,mu):\n",
    "        return 1/(sigma*math.sqrt(2*np.pi))*math.exp((-1*(x-mu)**2)/2*(sigma**2))\n",
    "        \n",
    "    def calc_extrinsic_motivation(self, incentive, cash_needed, desired_savings):\n",
    "        initial_cash = self.initial_capital\n",
    "        mu = (cash_needed-initial_cash)+desired_savings\n",
    "        if cash_needed == 0:\n",
    "            sigma = 100\n",
    "        else:\n",
    "            sigma = math.sqrt(1/(cash_needed - initial_cash + desired_savings))\n",
    "        peak = self.gaussian(mu+1, sigma, mu)\n",
    "        if incentive <= mu+1 :\n",
    "            motivation = 1/(sigma*math.sqrt(2*np.pi))*math.exp((-1*(incentive-mu)**2)/2*(sigma**2))\n",
    "        else:\n",
    "            motivation = peak\n",
    "        return motivation\n",
    "        "
   ]
  },
  {
   "cell_type": "code",
   "execution_count": 4,
   "metadata": {
    "execution": {
     "iopub.execute_input": "2022-01-25T18:40:03.880986Z",
     "iopub.status.busy": "2022-01-25T18:40:03.880547Z",
     "iopub.status.idle": "2022-01-25T18:40:03.887953Z",
     "shell.execute_reply": "2022-01-25T18:40:03.886871Z",
     "shell.execute_reply.started": "2022-01-25T18:40:03.880942Z"
    }
   },
   "outputs": [],
   "source": [
    "def motivation_curve(initial_cash, cash_needed, desired_savings):\n",
    "    person = individual(initial_cash)\n",
    "    motivation_list = []\n",
    "    for incentive in range(15):\n",
    "        motivation_list.append(person.calc_extrinsic_motivation(incentive, cash_needed, desired_savings))\n",
    "    print(motivation_list)\n",
    "\n",
    "    return hv.Curve(motivation_list, \"Incentive\", \"Extrinsic_Motivation\").opts(title=\"Incentive v Extrinsic Motivation\")"
   ]
  },
  {
   "cell_type": "code",
   "execution_count": 5,
   "metadata": {
    "execution": {
     "iopub.execute_input": "2022-01-25T18:40:03.892301Z",
     "iopub.status.busy": "2022-01-25T18:40:03.891477Z",
     "iopub.status.idle": "2022-01-25T18:40:03.903742Z",
     "shell.execute_reply": "2022-01-25T18:40:03.902612Z",
     "shell.execute_reply.started": "2022-01-25T18:40:03.892231Z"
    }
   },
   "outputs": [],
   "source": [
    "motivation = hv.DynamicMap(motivation_curve, kdims=['initial_cash', 'cash_needed', 'desired_savings'])"
   ]
  },
  {
   "cell_type": "markdown",
   "metadata": {},
   "source": [
    "### Basic Definitions\n",
    "**Incentive**: anything that provides value to an individual or group of individuals and thereby persuading them to do something in exchange for that item or service of value. In this case, we use money as an example of an incentive.\n",
    "<br></br><br></br>\n",
    "**Extrinsic Motivation**: the rationale for performing a task or set of tasks that is driven by an incentive.\n",
    "<br></br><br></br>\n",
    "**Intrinsic Motivation**: Effort given to performing a task or set of tasks for the sake of doing the task."
   ]
  },
  {
   "cell_type": "markdown",
   "metadata": {},
   "source": [
    "### Definition for Code:\n",
    "\n",
    "**Initial cash**: the amount of money you already have \n",
    "<br></br>\n",
    "**Needed cash**: the amount of money you need to afford the things that will make you feel satisfactory\n",
    "<br></br>\n",
    "**Desired savings**: The amount of money you need to feel financially secure"
   ]
  },
  {
   "cell_type": "code",
   "execution_count": 19,
   "metadata": {
    "execution": {
     "iopub.execute_input": "2022-01-25T18:44:25.165262Z",
     "iopub.status.busy": "2022-01-25T18:44:25.164920Z",
     "iopub.status.idle": "2022-01-25T18:44:25.382097Z",
     "shell.execute_reply": "2022-01-25T18:44:25.380805Z",
     "shell.execute_reply.started": "2022-01-25T18:44:25.165232Z"
    }
   },
   "outputs": [],
   "source": [
    "motivation.redim.range(initial_cash=(0,10), cash_needed=(0,10), desired_savings=(0,5), Incentive=(0,10),Extrinsic_Motivation=(0,1.8))"
   ]
  },
  {
   "cell_type": "markdown",
   "metadata": {},
   "source": [
    "Above we model the effects of incentive on a person's intrinsic motivation. Here we chose to use a simple guassian function that becomes constant after peaking. This demonstates how increasing the incentive drives extrinsic motivation. It is not surprising that as the incentive increases, the function reflects the increase in motivation. At some point motivation will be maxed out and will remain constant as reflected by graph. \n",
    "\n",
    "The sliders on the right side allow you to control 3 different variables. As you move them around, you will discover a few points:\n",
    "* If the cash_needed + desired_savings is less than what you have (initial_cash), there is no motivation because you already have what you need.\n",
    "* As the cash_needed increases the extrinsic motivation begins to get stronger.\n",
    "* The less you have (initial_cash), the less cash (incentive) it takes to motivate you."
   ]
  },
  {
   "cell_type": "markdown",
   "metadata": {},
   "source": [
    "# An Introductory Simulation illustrating Intrinsic Motivation"
   ]
  },
  {
   "cell_type": "code",
   "execution_count": 7,
   "metadata": {
    "execution": {
     "iopub.execute_input": "2022-01-25T18:40:04.055791Z",
     "iopub.status.busy": "2022-01-25T18:40:04.055211Z",
     "iopub.status.idle": "2022-01-25T18:40:04.065670Z",
     "shell.execute_reply": "2022-01-25T18:40:04.064568Z",
     "shell.execute_reply.started": "2022-01-25T18:40:04.055742Z"
    }
   },
   "outputs": [],
   "source": [
    "class individual_intrinsic():\n",
    "    def __init__(self, talent, initial_education):\n",
    "        self.talent = talent\n",
    "        self.initial_education = initial_education\n",
    "        self.education = 0\n",
    "        self.ability = 0\n",
    "        \n",
    "    def calc_intrinsic_motivation(self, t):\n",
    "        self.education = self.initial_education\n",
    "        self.ability = 1/(1+math.exp(-(0.00001*(self.education*self.talent))*t))\n",
    "        initial_ability = initial_ability = 1/(1+math.exp(-(0.00001*(self.initial_education*self.talent))*0))\n",
    "        k=0.8\n",
    "        challenge_difficulty = -1*(k*self.ability)+initial_ability\n",
    "        intrinsic_motivation = math.exp((-1/2)*((np.log(1/challenge_difficulty)-1)-2)**2)\n",
    "        return intrinsic_motivation, challenge_difficulty\n",
    "    "
   ]
  },
  {
   "cell_type": "code",
   "execution_count": 8,
   "metadata": {
    "execution": {
     "iopub.execute_input": "2022-01-25T18:40:04.067860Z",
     "iopub.status.busy": "2022-01-25T18:40:04.067486Z",
     "iopub.status.idle": "2022-01-25T18:40:04.085713Z",
     "shell.execute_reply": "2022-01-25T18:40:04.084456Z",
     "shell.execute_reply.started": "2022-01-25T18:40:04.067824Z"
    }
   },
   "outputs": [],
   "source": [
    "def intrinsic_motivation_curve(talent, initial_education):\n",
    "    person = individual_intrinsic(talent, initial_education)\n",
    "    intrinsic_motivation_list = []\n",
    "    challenge_diff_list = []\n",
    "    for t in range(100):\n",
    "        results = person.calc_intrinsic_motivation(t)\n",
    "        intrinsic_motivation_list.append(results[0])\n",
    "        challenge_diff_list.append(results[1])\n",
    "    \n",
    "    timeVintrinsic = hv.Curve(intrinsic_motivation_list, \"Time\", \"Intrinsic_Motivation\").opts(width=250, title=\"Time v Intrinsic Motivation\")\n",
    "    timeVchallenge_diff = hv.Curve(challenge_diff_list, \"Time\", \"Challenge_Difficulty\").opts(width=250, title=\"Time v Challenge Difficulty\")\n",
    "    \n",
    "    return timeVintrinsic, timeVchallenge_diff"
   ]
  },
  {
   "cell_type": "code",
   "execution_count": 9,
   "metadata": {
    "execution": {
     "iopub.execute_input": "2022-01-25T18:40:04.088220Z",
     "iopub.status.busy": "2022-01-25T18:40:04.087795Z",
     "iopub.status.idle": "2022-01-25T18:40:04.103700Z",
     "shell.execute_reply": "2022-01-25T18:40:04.102392Z",
     "shell.execute_reply.started": "2022-01-25T18:40:04.088178Z"
    }
   },
   "outputs": [],
   "source": [
    "def get_tvim(talent, initial_education):\n",
    "    return intrinsic_motivation_curve(talent, initial_education)[0]\n",
    "\n",
    "timeVintrinsic_dynamic = hv.DynamicMap(get_tvim, kdims=['talent', 'initial_education'])"
   ]
  },
  {
   "cell_type": "code",
   "execution_count": 10,
   "metadata": {
    "execution": {
     "iopub.execute_input": "2022-01-25T18:40:04.106017Z",
     "iopub.status.busy": "2022-01-25T18:40:04.105511Z",
     "iopub.status.idle": "2022-01-25T18:40:04.201499Z",
     "shell.execute_reply": "2022-01-25T18:40:04.200093Z",
     "shell.execute_reply.started": "2022-01-25T18:40:04.105980Z"
    }
   },
   "outputs": [],
   "source": [
    "get_tvim(90,10)"
   ]
  },
  {
   "cell_type": "code",
   "execution_count": 11,
   "metadata": {
    "execution": {
     "iopub.execute_input": "2022-01-25T18:40:04.205242Z",
     "iopub.status.busy": "2022-01-25T18:40:04.204710Z",
     "iopub.status.idle": "2022-01-25T18:40:04.215657Z",
     "shell.execute_reply": "2022-01-25T18:40:04.213644Z",
     "shell.execute_reply.started": "2022-01-25T18:40:04.205199Z"
    }
   },
   "outputs": [],
   "source": [
    "tvi = timeVintrinsic_dynamic.redim.range(talent=(0,100), initial_education=(0,100),Time=(0,100),Intrinsic_Motivation=(0,1.8))"
   ]
  },
  {
   "cell_type": "code",
   "execution_count": 12,
   "metadata": {
    "execution": {
     "iopub.execute_input": "2022-01-25T18:40:04.217762Z",
     "iopub.status.busy": "2022-01-25T18:40:04.217324Z",
     "iopub.status.idle": "2022-01-25T18:40:04.236453Z",
     "shell.execute_reply": "2022-01-25T18:40:04.235229Z",
     "shell.execute_reply.started": "2022-01-25T18:40:04.217724Z"
    }
   },
   "outputs": [],
   "source": [
    "def get_tvcd(talent, initial_education):\n",
    "    return intrinsic_motivation_curve(talent, initial_education)[1]\n",
    "\n",
    "timeVchallenge_dynamic = hv.DynamicMap(get_tvcd, kdims=['talent', 'initial_education'])\n",
    "\n",
    "tvc = timeVchallenge_dynamic.redim.range(talent=(0,100), initial_education=(0,100),Time=(0,100),Challenge_Difficulty=(0,0.18))"
   ]
  },
  {
   "cell_type": "code",
   "execution_count": 13,
   "metadata": {
    "execution": {
     "iopub.execute_input": "2022-01-25T18:40:04.239953Z",
     "iopub.status.busy": "2022-01-25T18:40:04.239425Z",
     "iopub.status.idle": "2022-01-25T18:40:04.530057Z",
     "shell.execute_reply": "2022-01-25T18:40:04.529099Z",
     "shell.execute_reply.started": "2022-01-25T18:40:04.239885Z"
    }
   },
   "outputs": [],
   "source": [
    "tvi + tvc"
   ]
  },
  {
   "cell_type": "code",
   "execution_count": 14,
   "metadata": {
    "execution": {
     "iopub.execute_input": "2022-01-25T18:40:04.531998Z",
     "iopub.status.busy": "2022-01-25T18:40:04.531684Z",
     "iopub.status.idle": "2022-01-25T18:40:04.539767Z",
     "shell.execute_reply": "2022-01-25T18:40:04.538433Z",
     "shell.execute_reply.started": "2022-01-25T18:40:04.531966Z"
    }
   },
   "outputs": [],
   "source": [
    "def capitalism(amount_of_product, cost_to_make, sale_price, t):\n",
    "    amount_of_product_A = 10\n",
    "    cost_to_make_A = 1\n",
    "    cost_of_inventory_A = amount_of_product_A*cost_to_make_A\n",
    "    sale_price_A = 2\n",
    "    how_much_you_need_of_B = 8\n",
    "    amount_of_product_B = 10\n",
    "    cost_to_make_B = 1\n",
    "    cost_of_inventory_B = amount_of_product_B*cost_to_make_B\n",
    "    sale_price_B = 2\n",
    "    amount_B_can_buy = 1\n",
    "    #do a time step\n",
    "    for i in range(t):\n",
    "        amount_of_product_A = amount_of_product_A - (amount_B_can_buy)\n",
    "        cost_of_inventory_A = amount_of_product_A*cost_to_make_A\n",
    "        purchase_power = amount_B_can_buy*sale_price_A\n",
    "        \n",
    "    \n",
    "    data = [(\"cost_of_inventory_A\",cost_of_inventory_A), (\"how_much_you_need_of_B\", how_much_you_need_of_B)]\n",
    "    \n",
    "    return hv.Bars(data)"
   ]
  },
  {
   "cell_type": "code",
   "execution_count": 15,
   "metadata": {
    "execution": {
     "iopub.execute_input": "2022-01-25T18:40:04.542500Z",
     "iopub.status.busy": "2022-01-25T18:40:04.541726Z",
     "iopub.status.idle": "2022-01-25T18:40:04.657578Z",
     "shell.execute_reply": "2022-01-25T18:40:04.655446Z",
     "shell.execute_reply.started": "2022-01-25T18:40:04.542444Z"
    }
   },
   "outputs": [],
   "source": [
    "bars = capitalism(10,1,2)\n",
    "bars"
   ]
  }
 ],
 "metadata": {
  "kernelspec": {
   "display_name": "Python 3",
   "language": "python",
   "name": "python3"
  },
  "language_info": {
   "codemirror_mode": {
    "name": "ipython",
    "version": 3
   },
   "file_extension": ".py",
   "mimetype": "text/x-python",
   "name": "python",
   "nbconvert_exporter": "python",
   "pygments_lexer": "ipython3",
   "version": "3.8.5"
  }
 },
 "nbformat": 4,
 "nbformat_minor": 4
}
